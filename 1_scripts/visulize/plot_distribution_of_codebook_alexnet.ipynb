{
 "cells": [
  {
   "cell_type": "code",
   "execution_count": 6,
   "metadata": {
    "collapsed": false
   },
   "outputs": [
    {
     "name": "stdout",
     "output_type": "stream",
     "text": [
      "/home/maohz12/pruning/\n"
     ]
    }
   ],
   "source": [
    "%matplotlib inline\n",
    "import sys                                 \n",
    "import os                                  \n",
    "import numpy as np                         \n",
    "import matplotlib.pyplot as plt  \n",
    "import pickle\n",
    "                                           \n",
    "                                           \n",
    "caffe_root = os.environ[\"CAFFE_ROOT\"]      \n",
    "os.chdir(caffe_root)                       \n",
    "print caffe_root                           \n",
    "sys.path.insert(0, caffe_root + 'python')  \n",
    "import caffe                               "
   ]
  },
  {
   "cell_type": "code",
   "execution_count": 7,
   "metadata": {
    "collapsed": false
   },
   "outputs": [],
   "source": [
    "prototxt = '/home/maohz12/pruning/3_prototxt_solver/L2/train_val.prototxt'      \n",
    "caffemodel = '/home/maohz12/pruning/4_model_checkpoint/alexnet/alexnet9x.caffemodel'    \n",
    "# caffemodel = '/home/maohz12/pruning/4_model_checkpoint/bvlc_alexnet.caffemodel' \n",
    "dir_t = '/home/maohz12/pruning/2_results/kmeans/alexnet/'\n",
    "codebook = pickle.load(open(dir_t + 'codebook.pkl'))\n",
    "                                                                                          \n",
    "net = caffe.Net(prototxt, caffemodel, caffe.TEST)                                         "
   ]
  },
  {
   "cell_type": "code",
   "execution_count": 8,
   "metadata": {
    "collapsed": false
   },
   "outputs": [
    {
     "name": "stdout",
     "output_type": "stream",
     "text": [
      "['fc6', 'fc7', 'fc8', 'conv3', 'conv2', 'conv1', 'conv5', 'conv4']\n",
      "16\n",
      "16\n",
      "16\n",
      "64\n",
      "64\n",
      "64\n",
      "64\n",
      "64\n"
     ]
    }
   ],
   "source": [
    "print codebook.keys()\n",
    "# print codebook\n",
    "for key in codebook.keys():\n",
    "    print codebook[key].size"
   ]
  },
  {
   "cell_type": "code",
   "execution_count": 9,
   "metadata": {
    "collapsed": false
   },
   "outputs": [],
   "source": [
    "# \"\"\"\n",
    "# Extension for disabling autoscrolling long output, which is super annoying sometimes\n",
    "# Usage:\n",
    "\n",
    "# You can also put the js snippet below in profile_dir/static/js/custom.js\n",
    "# \"\"\"\n",
    "\n",
    "# from IPython.display import display, Javascript\n",
    "\n",
    "# disable_js = \"\"\"\n",
    "# IPython.OutputArea.prototype._should_scroll = function(lines) {\n",
    "#     return false;\n",
    "# }\n",
    "# \"\"\"\n",
    "\n",
    "# def load_ipython_extension(ip):\n",
    "#     display(Javascript(disable_js))\n",
    "#     print (\"autoscrolling long output is disabled\")\n",
    "    \n",
    "# %load_ext disable_autoscroll"
   ]
  },
  {
   "cell_type": "code",
   "execution_count": 10,
   "metadata": {
    "collapsed": false
   },
   "outputs": [
    {
     "name": "stdout",
     "output_type": "stream",
     "text": [
      "fc6\n"
     ]
    },
    {
     "data": {
      "image/png": "[encoded data removed]",
      "text/plain": [
       "<matplotlib.figure.Figure at 0x7e0880393190>"
      ]
     },
     "metadata": {},
     "output_type": "display_data"
    }
   ],
   "source": [
    "\n",
    "layers = filter(lambda x:'conv' in x or 'fc' in x, net.params.keys())\n",
    "layers= ['fc6']\n",
    "for i,layer in enumerate(layers):\n",
    "    W = net.params[layer][0].data   \n",
    "    W = W[np.where(W!=0)] \n",
    "    numBins = 128       \n",
    "    code = codebook[layer]\n",
    "    print layer\n",
    "    plt.figure(figsize=(16,8))    \n",
    "    std = np.std(W)\n",
    "    W_no = W[np.where((abs(W) < 5 * std))]\n",
    "#     W_no = W\n",
    "    plt.hist(W_no.flatten(), numBins, color='blue', alpha=0.8) \n",
    "    plt.scatter(code, np.zeros(code.shape), marker='o', c='red', s=70)\n",
    "    plt.show()         "
   ]
  },
  {
   "cell_type": "code",
   "execution_count": null,
   "metadata": {
    "collapsed": true
   },
   "outputs": [],
   "source": []
  },
  {
   "cell_type": "code",
   "execution_count": null,
   "metadata": {
    "collapsed": true
   },
   "outputs": [],
   "source": []
  }
 ],
 "metadata": {
  "kernelspec": {
   "display_name": "Python 2",
   "language": "python",
   "name": "python2"
  },
  "language_info": {
   "codemirror_mode": {
    "name": "ipython",
    "version": 2
   },
   "file_extension": ".py",
   "mimetype": "text/x-python",
   "name": "python",
   "nbconvert_exporter": "python",
   "pygments_lexer": "ipython2",
   "version": "2.7.10"
  }
 },
 "nbformat": 4,
 "nbformat_minor": 0
}
