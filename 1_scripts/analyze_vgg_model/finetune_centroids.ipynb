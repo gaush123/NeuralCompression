{
 "cells": [
  {
   "cell_type": "code",
   "execution_count": 20,
   "metadata": {
    "collapsed": false
   },
   "outputs": [
    {
     "name": "stdout",
     "output_type": "stream",
     "text": [
      "/home/songhan/pruning/\n"
     ]
    }
   ],
   "source": [
    "import sys\n",
    "import os\n",
    "import numpy as np\n",
    "import matplotlib.pyplot as plt\n",
    "import scipy.cluster.vq as scv\n",
    "import pickle\n",
    "\n",
    "# os.system(\"cd $CAFFE_ROOT\")\n",
    "caffe_root = os.environ[\"CAFFE_ROOT\"]\n",
    "os.chdir(caffe_root)\n",
    "print caffe_root\n",
    "sys.path.insert(0, caffe_root + 'python')\n",
    "import caffe\n",
    "\n",
    "caffe.set_mode_gpu()\n",
    "caffe.set_device(2)\n",
    "option = 'lenet5'\n",
    "if option == 'lenet5':\n",
    "    prototxt = '3_prototxt_solver/lenet5/train_val.prototxt'             \n",
    "    caffemodel = '4_model_checkpoint/lenet5/lenet5.caffemodel'\n",
    "    iters = 100\n",
    "    dir_t = '2_results/kmeans/lenet5/'\n",
    "elif option == 'alexnet':\n",
    "    prototxt = '3_prototxt_solver/L2/train_val.prototxt'             \n",
    "    caffemodel = '4_model_checkpoint/alexnet/alexnet9x.caffemodel'  \n",
    "    iters = 1000\n",
    "    dir_t = '2_results/kmeans/alexnet/'\n",
    "elif option == 'vgg':\n",
    "    prototxt = '3_prototxt_solver/vgg16/train_val.prototxt'             \n",
    "    caffemodel = '4_model_checkpoint/vgg16/vgg16_12x.caffemodel'  \n",
    "    iters = 1000\n",
    "    dir_t = '2_results/kmeans/vgg16/'\n",
    "\n",
    "log = dir_t + 'log_accu'"
   ]
  },
  {
   "cell_type": "code",
   "execution_count": 21,
   "metadata": {
    "collapsed": false
   },
   "outputs": [
    {
     "name": "stdout",
     "output_type": "stream",
     "text": [
      "layers TBD:  ['conv1', 'conv2', 'ip1', 'ip2']\n",
      "num_c =  [8, 8, 8, 8]\n"
     ]
    }
   ],
   "source": [
    "choice = [64,16]\n",
    "net = caffe.Net(prototxt, caffemodel, caffe.TRAIN)\n",
    "\n",
    "layers = [\"conv1\", \"conv2\", \"ip1\", \"ip2\"]\n",
    "num_c = [8, 8, 8, 8]\n",
    "\n",
    "# layers = [\"ip2\"]\n",
    "# num_c =[4]\n",
    "print \"layers TBD: \", layers\n",
    "print \"num_c = \", num_c"
   ]
  },
  {
   "cell_type": "code",
   "execution_count": 23,
   "metadata": {
    "collapsed": false
   },
   "outputs": [
    {
     "name": "stdout",
     "output_type": "stream",
     "text": [
      "==============1 Perform K-means=============\n",
      "Eval layer: conv1\n",
      "codebook: [ 0.         -0.29499978 -0.03177995  0.25980002  0.51812828]\n",
      "codebook size: 5\n",
      "Eval layer: conv2\n",
      "codebook: [ 0.         -0.14003672 -0.08655009 -0.04095863  0.05826917  0.12395576\n",
      "  0.21972357]\n",
      "codebook size: 7\n",
      "Eval layer: ip1\n",
      "codebook: [ 0.         -0.07194122 -0.04054011 -0.01950156  0.01798702  0.03304647\n",
      "  0.05246379  0.08222321]\n",
      "codebook size: 8\n",
      "Eval layer: ip2\n",
      "codebook: [ 0.         -0.25988275 -0.17693673 -0.10709237  0.13464746  0.23517904]\n",
      "codebook size: 6\n"
     ]
    }
   ],
   "source": [
    "print \"==============1 Perform K-means=============\"\n",
    "codebook = {}\n",
    "for idx, layer in enumerate(layers):\n",
    "    print \"Eval layer:\", layer\n",
    "    W = net.params[layer][0].data.flatten()\n",
    "    W = W[np.where(W != 0)]\n",
    "    std = np.std(W)\n",
    "    initial_uni = np.linspace(-4 * std, 4 * std, num_c[idx]-1)\n",
    "    codebook[layer],_= scv.kmeans(W, initial_uni)    \n",
    "    codebook[layer] = np.append(0.0, codebook[layer])\n",
    "    print \"codebook:\", codebook[layer]\n",
    "    print \"codebook size:\", len(codebook[layer])"
   ]
  },
  {
   "cell_type": "code",
   "execution_count": 43,
   "metadata": {
    "collapsed": false
   },
   "outputs": [
    {
     "name": "stdout",
     "output_type": "stream",
     "text": [
      " ================2 Perform quantization==============\n",
      "Quantize layer: conv1\n",
      "W_q.shape= (20, 1, 5, 5)\n",
      "codebook length= 5\n",
      "maskcode: (500,)\n",
      "maskcode: (280,)\n",
      "Quantize layer: conv2\n",
      "W_q.shape= (50, 20, 5, 5)\n",
      "codebook length= 7\n",
      "maskcode: (25000,)\n",
      "maskcode: (2728,)\n",
      "Quantize layer: ip1\n",
      "W_q.shape= (500, 800)\n",
      "codebook length= 8\n",
      "maskcode: (400000,)\n",
      "maskcode: (30875,)\n",
      "Quantize layer: ip2\n",
      "W_q.shape= (10, 500)\n",
      "codebook length= 6\n",
      "maskcode: (5000,)\n",
      "maskcode: (958,)\n"
     ]
    }
   ],
   "source": [
    "print \"================2 Perform quantization==============\"\n",
    "codeDict={}\n",
    "maskCode={}\n",
    "for layer in layers:\n",
    "    print \"Quantize layer:\", layer\n",
    "    W = net.params[layer][0].data\n",
    "    codes, dist = scv.vq(W.flatten(), codebook[layer])\n",
    "    W_q = np.reshape(codebook[layer][codes], W.shape)\n",
    "    net.params[layer][0].data[...] = W_q\n",
    "\n",
    "    maskCode[layer] = np.reshape(codes, W.shape)\n",
    "    codeBookSize = len(codebook[layer])    \n",
    "    print \"W_q.shape=\", W_q.shape        \n",
    "    print \"codebook length=\", codeBookSize\n",
    "    print \"maskcode:\", maskCode[layer].flatten().shape\n",
    "    print \"maskcode:\", np.flatnonzero(maskCode[layer]).shape\n",
    "    a = maskCode[layer].flatten()\n",
    "    b = xrange(len(a))\n",
    "#     print a\n",
    "#     print b\n",
    "\n",
    "    codeDict[layer]={}\n",
    "    for i in xrange(len(a)):\n",
    "        codeDict[layer].setdefault(a[i], []).append(b[i])\n",
    "#     print \"codeDict  is\",codeDict\n",
    "#     print maskCode[layer]\n",
    "    "
   ]
  },
  {
   "cell_type": "code",
   "execution_count": 41,
   "metadata": {
    "collapsed": false
   },
   "outputs": [
    {
     "name": "stdout",
     "output_type": "stream",
     "text": [
      "================3 Perform fintuning==============\n",
      "{'ip2': array([ 0.        , -0.30827944, -0.22033117, -0.12869972,  0.16594969,\n",
      "        0.28270735]), 'conv2': array([ 0.        , -0.20370411, -0.13133167, -0.07489873,  0.03206986,\n",
      "        0.0953579 ,  0.16920747]), 'conv1': array([ 0.        , -0.42127984, -0.08663357,  0.14976108,  0.37965974]), 'ip1': array([ 0.        , -0.11421262, -0.06721763, -0.03180971,  0.00937421,\n",
      "        0.02238155,  0.03940598,  0.06676778])}\n",
      "13.0099232197\n"
     ]
    }
   ],
   "source": [
    "print \"================3 Perform fintuning==============\"\n",
    "print codebook\n",
    "lr=0.00001\n",
    "import time\n",
    "start_time=time.time()\n",
    "for i in xrange(1000):\n",
    "    net.forward()\n",
    "    net.backward()\n",
    "    for layer in layers:\n",
    "#         print layer\n",
    "        diff=net.params[layer][0].diff.flatten()\n",
    "        W1 =  net.params[layer][0].data\n",
    "#         print W1.shape\n",
    "        codeBookSize=len(codebook[layer])\n",
    "#         print codeDict[layer]\n",
    "        for code in xrange(codeBookSize):\n",
    "            if code==0: continue;\n",
    "            indexes = codeDict[layer][code]\n",
    "#             print codeDict[layer]\n",
    "#           print \"diff array is \",diff[indexes] #if one want to go up, other want to go down, that's not good\n",
    "            codebook[layer][code] -= lr*sum(diff[indexes])/len(diff[indexes])\n",
    "#             print lr*sum(diff[indexes])/len(diff[indexes])\n",
    "        W2 = codebook[layer][maskCode[layer]]\n",
    "\n",
    "#         if lr==0:\n",
    "#             assert ((W1==W2).all())\n",
    "        \n",
    "        net.params[layer][0].data[...]=W2\n",
    "print time.time()-start_time        \n",
    "#     if i%200==0:\n",
    "#         print codebook[\"ip2\"]\n",
    "    \n"
   ]
  },
  {
   "cell_type": "code",
   "execution_count": 215,
   "metadata": {
    "collapsed": false
   },
   "outputs": [
    {
     "name": "stdout",
     "output_type": "stream",
     "text": [
      "[ 0.         -0.16629212  0.13232081  0.23106943]\n"
     ]
    }
   ],
   "source": [
    "print codebook[\"ip2\"]"
   ]
  },
  {
   "cell_type": "code",
   "execution_count": 38,
   "metadata": {
    "collapsed": false,
    "scrolled": false
   },
   "outputs": [
    {
     "name": "stdout",
     "output_type": "stream",
     "text": [
      "batch size= (64,)\n",
      "1.99893403053\n",
      "0.9639\n"
     ]
    }
   ],
   "source": [
    "print \"batch size=\",net.blobs['label'].data.shape\n",
    "\n",
    "import time\n",
    "start_time = time.time()\n",
    "for i in xrange(1000):\n",
    "    net.forward()\n",
    "    net.backward()\n",
    "    for layer in layers:        \n",
    "        diff=net.params[layer][0].diff\n",
    "        W=    net.params[layer][0].data\n",
    "        W -= 0.000001*diff    \n",
    "        net.params[layer][0].data[...]=W\n",
    "        \n",
    "print time.time()-start_time\n",
    "correct = 0\n",
    "for test_it in range(50000/64):\n",
    "    net.forward()\n",
    "    correct += sum(net.blobs['ip2'].data.argmax(1)\n",
    "                   == net.blobs['label'].data)\n",
    "print correct / float(50000)"
   ]
  },
  {
   "cell_type": "code",
   "execution_count": 29,
   "metadata": {
    "collapsed": false
   },
   "outputs": [
    {
     "name": "stdout",
     "output_type": "stream",
     "text": [
      "0.9955\n"
     ]
    }
   ],
   "source": [
    "correct = 0\n",
    "for test_it in range(50000/64):\n",
    "    net.forward()\n",
    "    correct += sum(net.blobs['ip2'].data.argmax(1)\n",
    "                   == net.blobs['label'].data)\n",
    "print correct / float(50000)"
   ]
  },
  {
   "cell_type": "markdown",
   "metadata": {},
   "source": [
    "0.9984\n",
    " "
   ]
  },
  {
   "cell_type": "code",
   "execution_count": 39,
   "metadata": {
    "collapsed": false
   },
   "outputs": [
    {
     "name": "stdout",
     "output_type": "stream",
     "text": [
      "{'ip2': array([ 0.        , -0.25988275, -0.17693673, -0.10709237,  0.13464746,\n",
      "        0.23517904]), 'conv2': array([ 0.        , -0.14003672, -0.08655009, -0.04095863,  0.05826917,\n",
      "        0.12395576,  0.21972357]), 'conv1': array([ 0.        , -0.29499978, -0.03177995,  0.25980002,  0.51812828]), 'ip1': array([ 0.        , -0.07194122, -0.04054011, -0.01950156,  0.01798702,\n",
      "        0.03304647,  0.05246379,  0.08222321])}\n"
     ]
    }
   ],
   "source": [
    "print codebook"
   ]
  },
  {
   "cell_type": "code",
   "execution_count": null,
   "metadata": {
    "collapsed": true
   },
   "outputs": [],
   "source": []
  }
 ],
 "metadata": {
  "kernelspec": {
   "display_name": "Python 2",
   "language": "python",
   "name": "python2"
  },
  "language_info": {
   "codemirror_mode": {
    "name": "ipython",
    "version": 2
   },
   "file_extension": ".py",
   "mimetype": "text/x-python",
   "name": "python",
   "nbconvert_exporter": "python",
   "pygments_lexer": "ipython2",
   "version": "2.7.10"
  }
 },
 "nbformat": 4,
 "nbformat_minor": 0
}
