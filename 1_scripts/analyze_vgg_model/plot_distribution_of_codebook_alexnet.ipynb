{
 "cells": [
  {
   "cell_type": "code",
   "execution_count": 26,
   "metadata": {
    "collapsed": false
   },
   "outputs": [
    {
     "name": "stdout",
     "output_type": "stream",
     "text": [
      "/home/maohz12/pruning/\n"
     ]
    }
   ],
   "source": [
    "%matplotlib inline\n",
    "import sys                                 \n",
    "import os                                  \n",
    "import numpy as np                         \n",
    "import matplotlib.pyplot as plt  \n",
    "import pickle\n",
    "                                           \n",
    "                                           \n",
    "caffe_root = os.environ[\"CAFFE_ROOT\"]      \n",
    "os.chdir(caffe_root)                       \n",
    "print caffe_root                           \n",
    "sys.path.insert(0, caffe_root + 'python')  \n",
    "import caffe                               "
   ]
  },
  {
   "cell_type": "code",
   "execution_count": 29,
   "metadata": {
    "collapsed": false
   },
   "outputs": [],
   "source": [
    "prototxt = '/home/maohz12/pruning/3_prototxt_solver/L2/train_val.prototxt'      \n",
    "# caffemodel = '/home/maohz12/pruning/4_model_checkpoint/alexnet.caffemodel'    \n",
    "caffemodel = '/home/maohz12/pruning/4_model_checkpoint/bvlc_alexnet.caffemodel' \n",
    "dir_t = '/home/maohz12/pruning/2_results/kmeans/alexnet/'\n",
    "codebook = pickle.load(open(dir_t + 'codebook.pkl'))\n",
    "                                                                                          \n",
    "net = caffe.Net(prototxt, caffemodel, caffe.TEST)                                         "
   ]
  },
  {
   "cell_type": "code",
   "execution_count": 33,
   "metadata": {
    "collapsed": false
   },
   "outputs": [
    {
     "name": "stdout",
     "output_type": "stream",
     "text": [
      "['fc8']\n",
      "{'fc8': array([  1.76187864e-08,  -4.36120816e-02,  -1.10676931e-02,\n",
      "         4.09981161e-02,   2.33001243e-02,   1.78965181e-02,\n",
      "        -2.33906675e-02,   2.72346251e-02,  -2.23668031e-02,\n",
      "        -2.51467545e-02,  -1.49241956e-02,   1.60830840e-02,\n",
      "        -1.92801040e-02,   2.54921038e-02,   1.55925425e-02,\n",
      "        -2.92078108e-02,   2.25451477e-02,  -3.12567316e-02,\n",
      "        -1.80574190e-02,  -2.13866942e-02,  -9.08887759e-03,\n",
      "        -1.87500510e-02,   3.45889963e-02,   1.88067593e-02,\n",
      "         1.43107641e-02,   9.68482625e-03,   4.54455167e-02,\n",
      "         1.66847389e-02,   1.76471714e-02,   2.63392515e-02,\n",
      "         1.94871090e-02,  -2.85833552e-02,   1.52873592e-02,\n",
      "         1.50769465e-02,  -1.34220226e-02,   1.72457471e-02,\n",
      "        -1.97226070e-02,   2.04660054e-02,   2.15711277e-02,\n",
      "         1.84113253e-02,   1.26136299e-02,   5.42964116e-02,\n",
      "        -3.74120511e-02,   1.40722515e-02,  -3.45126949e-02,\n",
      "         2.46913210e-02,   3.76187488e-02,   3.22066247e-02,\n",
      "         1.37657747e-02,  -2.02206057e-02,   1.80509202e-02,\n",
      "        -2.97001302e-02,   1.81924328e-02,   2.92958058e-02,\n",
      "        -3.02894618e-02,  -2.19038725e-02,  -2.77575422e-02,\n",
      "         1.15776677e-02,  -2.60665230e-02,  -3.26692909e-02,\n",
      "        -1.44277383e-02,  -1.67124998e-02,  -2.41866224e-02,\n",
      "        -1.61448475e-02,  -1.40044373e-02,   2.82222833e-02,\n",
      "         1.32984538e-02,  -2.28205863e-02,  -2.08037924e-02,\n",
      "         3.05308457e-02,   1.45710027e-02,  -1.55330161e-02,\n",
      "        -2.69100778e-02,  -1.24636889e-02,   2.39707250e-02,\n",
      "         1.48435840e-02,  -1.73305441e-02], dtype=float32)}\n"
     ]
    }
   ],
   "source": [
    "print codebook.keys()\n",
    "print codebook"
   ]
  },
  {
   "cell_type": "code",
   "execution_count": 34,
   "metadata": {
    "collapsed": false
   },
   "outputs": [
    {
     "ename": "KeyError",
     "evalue": "'conv1'",
     "output_type": "error",
     "traceback": [
      "\u001b[1;31m---------------------------------------------------------------------------\u001b[0m",
      "\u001b[1;31mKeyError\u001b[0m                                  Traceback (most recent call last)",
      "\u001b[1;32m<ipython-input-34-0172f51b6089>\u001b[0m in \u001b[0;36m<module>\u001b[1;34m()\u001b[0m\n\u001b[0;32m      5\u001b[0m     \u001b[0mW\u001b[0m \u001b[1;33m=\u001b[0m \u001b[0mnet\u001b[0m\u001b[1;33m.\u001b[0m\u001b[0mparams\u001b[0m\u001b[1;33m[\u001b[0m\u001b[0mlayer\u001b[0m\u001b[1;33m]\u001b[0m\u001b[1;33m[\u001b[0m\u001b[1;36m0\u001b[0m\u001b[1;33m]\u001b[0m\u001b[1;33m.\u001b[0m\u001b[0mdata\u001b[0m\u001b[1;33m\u001b[0m\u001b[0m\n\u001b[0;32m      6\u001b[0m     \u001b[0mnumBins\u001b[0m \u001b[1;33m=\u001b[0m \u001b[1;36m128\u001b[0m\u001b[1;33m\u001b[0m\u001b[0m\n\u001b[1;32m----> 7\u001b[1;33m     \u001b[0mcode\u001b[0m \u001b[1;33m=\u001b[0m \u001b[0mcodebook\u001b[0m\u001b[1;33m[\u001b[0m\u001b[0mlayer\u001b[0m\u001b[1;33m]\u001b[0m\u001b[1;33m\u001b[0m\u001b[0m\n\u001b[0m\u001b[0;32m      8\u001b[0m     \u001b[1;32mprint\u001b[0m \u001b[0mlayer\u001b[0m\u001b[1;33m\u001b[0m\u001b[0m\n\u001b[0;32m      9\u001b[0m     \u001b[0mplt\u001b[0m\u001b[1;33m.\u001b[0m\u001b[0mfigure\u001b[0m\u001b[1;33m(\u001b[0m\u001b[0mfigsize\u001b[0m\u001b[1;33m=\u001b[0m\u001b[1;33m(\u001b[0m\u001b[1;36m10\u001b[0m\u001b[1;33m,\u001b[0m\u001b[1;36m10\u001b[0m\u001b[1;33m)\u001b[0m\u001b[1;33m)\u001b[0m\u001b[1;33m\u001b[0m\u001b[0m\n",
      "\u001b[1;31mKeyError\u001b[0m: 'conv1'"
     ]
    }
   ],
   "source": [
    "\n",
    "layers = filter(lambda x:'conv' in x or 'fc' in x, net.params.keys())\n",
    "\n",
    "for i,layer in enumerate(layers):\n",
    "    W = net.params[layer][0].data                                                            \n",
    "    numBins = 128       \n",
    "    code = codebook[layer]\n",
    "    print layer\n",
    "    plt.figure(figsize=(10,10))\n",
    "    \n",
    "\n",
    "    std = np.std(W)\n",
    "    W_no = W[np.where((abs(W) < 5 * std))]\n",
    "#     W_no = W\n",
    "    plt.hist(W_no.flatten(), numBins, color='blue', alpha=0.8) \n",
    "    plt.scatter(code, np.zeros(code.shape), marker='o', c='yellow')\n",
    "    plt.show()         "
   ]
  },
  {
   "cell_type": "code",
   "execution_count": null,
   "metadata": {
    "collapsed": true
   },
   "outputs": [],
   "source": []
  }
 ],
 "metadata": {
  "kernelspec": {
   "display_name": "Python 2",
   "language": "python",
   "name": "python2"
  },
  "language_info": {
   "codemirror_mode": {
    "name": "ipython",
    "version": 2
   },
   "file_extension": ".py",
   "mimetype": "text/x-python",
   "name": "python",
   "nbconvert_exporter": "python",
   "pygments_lexer": "ipython2",
   "version": "2.7.10"
  }
 },
 "nbformat": 4,
 "nbformat_minor": 0
}
